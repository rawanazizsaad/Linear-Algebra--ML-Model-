{
 "cells": [
  {
   "cell_type": "code",
   "execution_count": 2,
   "metadata": {},
   "outputs": [
    {
     "name": "stdout",
     "output_type": "stream",
     "text": [
      "[[ 2  3  4]\n",
      " [ 5  6  7]\n",
      " [ 8  9 10]]\n"
     ]
    }
   ],
   "source": [
    "import numpy as np\n",
    "x =  np.arange(2, 11).reshape(3,3)\n",
    "print(x)"
   ]
  },
  {
   "cell_type": "code",
   "execution_count": 3,
   "metadata": {},
   "outputs": [
    {
     "name": "stdout",
     "output_type": "stream",
     "text": [
      "[[1. 0. 0.]\n",
      " [0. 1. 0.]\n",
      " [0. 0. 1.]]\n"
     ]
    }
   ],
   "source": [
    "ID_mat=np.identity(3)\n",
    "print(ID_mat)"
   ]
  },
  {
   "cell_type": "code",
   "execution_count": 4,
   "metadata": {},
   "outputs": [
    {
     "name": "stdout",
     "output_type": "stream",
     "text": [
      "The dot product of two matrices:\n",
      " [[ 2.  3.  4.]\n",
      " [ 5.  6.  7.]\n",
      " [ 8.  9. 10.]]\n"
     ]
    }
   ],
   "source": [
    "#1- identity matrix\n",
    "Res=np.dot(ID_mat,x)\n",
    "print(\"The dot product of two matrices:\\n\", Res)"
   ]
  },
  {
   "cell_type": "code",
   "execution_count": 5,
   "metadata": {},
   "outputs": [
    {
     "name": "stdout",
     "output_type": "stream",
     "text": [
      "[[0. 0. 0.]\n",
      " [0. 0. 0.]\n",
      " [0. 0. 0.]]\n"
     ]
    }
   ],
   "source": [
    "#2- zeros matrix\n",
    "Z =np.zeros((3,3))\n",
    "print(Z)"
   ]
  },
  {
   "cell_type": "code",
   "execution_count": 6,
   "metadata": {},
   "outputs": [
    {
     "name": "stdout",
     "output_type": "stream",
     "text": [
      "The dot product of two matrices:\n",
      " [[0. 0. 0.]\n",
      " [0. 0. 0.]\n",
      " [0. 0. 0.]]\n"
     ]
    }
   ],
   "source": [
    "Res2=np.dot(x,Z)\n",
    "print(\"The dot product of two matrices:\\n\", Res2)"
   ]
  },
  {
   "cell_type": "code",
   "execution_count": 7,
   "metadata": {},
   "outputs": [
    {
     "name": "stdout",
     "output_type": "stream",
     "text": [
      "Original Matrix:\n",
      "[[1 2 3]\n",
      " [4 5 6]\n",
      " [7 8 9]]\n",
      "Transposed matrix:\n",
      "[[1 4 7]\n",
      " [2 5 8]\n",
      " [3 6 9]]\n"
     ]
    }
   ],
   "source": [
    "#3- matrix's transpose\n",
    "M1 = np.array([[1, 2, 3], [4, 5, 6],[7, 8, 9]])\n",
    "\n",
    "print(f'Original Matrix:\\n{M1}')\n",
    "\n",
    "marix_transpose = M1.transpose()\n",
    "\n",
    "print(f'Transposed matrix:\\n{marix_transpose}')"
   ]
  },
  {
   "cell_type": "code",
   "execution_count": 8,
   "metadata": {},
   "outputs": [
    {
     "name": "stdout",
     "output_type": "stream",
     "text": [
      "[[ 3  4  5]\n",
      " [ 6  7  8]\n",
      " [ 9 10 11]]\n",
      "Transposed matrix:\n",
      "[[ 3  6  9]\n",
      " [ 4  7 10]\n",
      " [ 5  8 11]]\n"
     ]
    }
   ],
   "source": [
    "#Another way for transposing\n",
    "x =  np.arange(3, 12).reshape(3,3)\n",
    "print(x)\n",
    "marix_trnsps = x.transpose()\n",
    "\n",
    "print(f'Transposed matrix:\\n{marix_trnsps}')"
   ]
  },
  {
   "cell_type": "code",
   "execution_count": 9,
   "metadata": {},
   "outputs": [
    {
     "name": "stdout",
     "output_type": "stream",
     "text": [
      "Transposed matrix is:\n",
      "1  2  3  \n",
      "2  3  3  \n",
      "3  3  6  \n"
     ]
    }
   ],
   "source": [
    "#Another way for transposing\n",
    "N = 3\n",
    " \n",
    "def transpose(A,B):\n",
    " \n",
    " for i in range(N):\n",
    "  for j in range(N):\n",
    "   B[i][j] = A[j][i]\n",
    " \n",
    "# driver code\n",
    "A = [ [1, 2, 3, 4],\n",
    " [2, 3, 4, 5],\n",
    " [3, 3, 6, 7],\n",
    " ]\n",
    " \n",
    " \n",
    "B = A[:][:] # To store results at\n",
    " \n",
    "transpose(A, B) # invoking function\n",
    "# print(\"Original matrix is:\\n\",A) \n",
    "print(\"Transposed matrix is:\")\n",
    "for i in range(N):\n",
    " for j in range(N):\n",
    "  print(B[i][j], \" \", end='')\n",
    " print()"
   ]
  }
 ],
 "metadata": {
  "kernelspec": {
   "display_name": "Python 3 (ipykernel)",
   "language": "python",
   "name": "python3"
  },
  "language_info": {
   "codemirror_mode": {
    "name": "ipython",
    "version": 3
   },
   "file_extension": ".py",
   "mimetype": "text/x-python",
   "name": "python",
   "nbconvert_exporter": "python",
   "pygments_lexer": "ipython3",
   "version": "3.10.6"
  }
 },
 "nbformat": 4,
 "nbformat_minor": 4
}
